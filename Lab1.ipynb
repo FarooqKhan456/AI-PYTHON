{
  "nbformat": 4,
  "nbformat_minor": 0,
  "metadata": {
    "colab": {
      "provenance": []
    },
    "kernelspec": {
      "name": "python3",
      "display_name": "Python 3"
    },
    "language_info": {
      "name": "python"
    }
  },
  "cells": [
    {
      "cell_type": "markdown",
      "source": [
        "**Name: Muhammad Farooq**\n",
        "\n",
        "**Registration: FA20-BSE-011**"
      ],
      "metadata": {
        "id": "d_eBY_vY_hCv"
      }
    },
    {
      "cell_type": "markdown",
      "source": [
        "Activity 2:\n",
        "Display strings on screen.\n",
        "\n",
        "Solution:"
      ],
      "metadata": {
        "id": "4L1N-_gNx8nI"
      }
    },
    {
      "cell_type": "code",
      "source": [
        "'''This is a multiline \n",
        "string that is used \n",
        "in oython programming\n",
        "language'''"
      ],
      "metadata": {
        "colab": {
          "base_uri": "https://localhost:8080/",
          "height": 36
        },
        "id": "cZ6PtsY_yB2Z",
        "outputId": "8beaf4c3-4e64-4118-d1dc-35d6cce75239"
      },
      "execution_count": null,
      "outputs": [
        {
          "output_type": "execute_result",
          "data": {
            "text/plain": [
              "'This is a multiline \\nstring that is used \\nin oython programming\\nlanguage'"
            ],
            "application/vnd.google.colaboratory.intrinsic+json": {
              "type": "string"
            }
          },
          "metadata": {},
          "execution_count": 1
        }
      ]
    },
    {
      "cell_type": "markdown",
      "source": [
        "Activity 3:\n",
        "Use Python as a calculator.\n",
        "Solution:"
      ],
      "metadata": {
        "id": "__w-xaytyWwI"
      }
    },
    {
      "cell_type": "code",
      "source": [
        "\n",
        "5 * 6\n",
        "2.5 * 10\n",
        "2.5 * 2.5\n",
        "28 / 4 \n",
        "26 / 4\n",
        "23.4 / 3.1"
      ],
      "metadata": {
        "colab": {
          "base_uri": "https://localhost:8080/"
        },
        "id": "XsrEuAjOyc-I",
        "outputId": "571c0219-8d1c-4e0d-c062-664c26644204"
      },
      "execution_count": null,
      "outputs": [
        {
          "output_type": "execute_result",
          "data": {
            "text/plain": [
              "7.548387096774193"
            ]
          },
          "metadata": {},
          "execution_count": 3
        }
      ]
    },
    {
      "cell_type": "markdown",
      "source": [
        "Activity 4:\n",
        "Get an integer answer from division operation. Also get remainder of a division operation in the output.\n",
        "\n",
        "Solution:"
      ],
      "metadata": {
        "id": "dsp5lEGwzP1l"
      }
    },
    {
      "cell_type": "code",
      "source": [
        "12/5\n",
        "12//5\n",
        "type (int)\n",
        "26/4\n",
        "type(float)\n",
        "35/6\n"
      ],
      "metadata": {
        "colab": {
          "base_uri": "https://localhost:8080/"
        },
        "id": "tz0QZ2l0zUx8",
        "outputId": "16c0e8fd-74bd-4ae7-91c1-48cb6f1d0c3c"
      },
      "execution_count": null,
      "outputs": [
        {
          "output_type": "execute_result",
          "data": {
            "text/plain": [
              "5.833333333333333"
            ]
          },
          "metadata": {},
          "execution_count": 4
        }
      ]
    },
    {
      "cell_type": "markdown",
      "source": [
        "Activity 5:\n",
        "Calculate 43, 410, 429, 4150, 41000\n",
        "\n",
        "Solution:"
      ],
      "metadata": {
        "id": "y5nxu-4v0E4q"
      }
    },
    {
      "cell_type": "code",
      "source": [
        "4 ** 3\n",
        "4 ** 10\n",
        "4 ** 29\n",
        "4 ** 150\n",
        "4 ** 1000"
      ],
      "metadata": {
        "colab": {
          "base_uri": "https://localhost:8080/"
        },
        "id": "jmzEZUdE0QdL",
        "outputId": "df8c9b6d-b5a4-4f1a-f406-704a7546c500"
      },
      "execution_count": null,
      "outputs": [
        {
          "output_type": "execute_result",
          "data": {
            "text/plain": [
              "114813069527425452423283320117768198402231770208869520047764273682576626139237031385665948631650626991844596463898746277344711896086305533142593135616665318539129989145312280000688779148240044871428926990063486244781615463646388363947317026040466353970904996558162398808944629605623311649536164221970332681344168908984458505602379484807914058900934776500429002716706625830522008132236281291761267883317206598995396418127021779858404042159853183251540889433902091920554957783589672039160081957216630582755380425583726015528348786419432054508915275783882625175435528800822842770817965453762184851149029376"
            ]
          },
          "metadata": {},
          "execution_count": 5
        }
      ]
    },
    {
      "cell_type": "markdown",
      "source": [
        "Activity 6:\n",
        "Write following math expressions. Solve them by hand using operators’ precedence.\n",
        "Calculate their answers using Python. Match the results.\n",
        "\n",
        "Solution:"
      ],
      "metadata": {
        "id": "0RAC_g6Z0gqW"
      }
    },
    {
      "cell_type": "code",
      "source": [
        "2**8\n",
        "22%8\n",
        "22//8\n",
        "22/8\n"
      ],
      "metadata": {
        "colab": {
          "base_uri": "https://localhost:8080/"
        },
        "id": "RGw6AYOJ0nNO",
        "outputId": "9e2ee602-bb18-4c4f-a0c2-9755f86fb701"
      },
      "execution_count": null,
      "outputs": [
        {
          "output_type": "execute_result",
          "data": {
            "text/plain": [
              "2.75"
            ]
          },
          "metadata": {},
          "execution_count": 6
        }
      ]
    }
  ]
}