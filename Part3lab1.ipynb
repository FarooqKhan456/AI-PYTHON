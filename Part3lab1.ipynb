{
  "nbformat": 4,
  "nbformat_minor": 0,
  "metadata": {
    "colab": {
      "provenance": [],
      "authorship_tag": "ABX9TyPjcjDyoWOE0xqVIHBuWz9A",
      "include_colab_link": true
    },
    "kernelspec": {
      "name": "python3",
      "display_name": "Python 3"
    },
    "language_info": {
      "name": "python"
    }
  },
  "cells": [
    {
      "cell_type": "markdown",
      "metadata": {
        "id": "view-in-github",
        "colab_type": "text"
      },
      "source": [
        "<a href=\"https://colab.research.google.com/github/Luddan123/AI-PYTHON/blob/main/Part3lab1.ipynb\" target=\"_parent\"><img src=\"https://colab.research.google.com/assets/colab-badge.svg\" alt=\"Open In Colab\"/></a>"
      ]
    },
    {
      "cell_type": "markdown",
      "source": [
        "Activity 12:\n",
        "\n",
        "Accept 5 integer values from user and display their sum. Draw flowchart before coding in python.\n",
        "\n",
        "Solution:\n"
      ],
      "metadata": {
        "id": "RtFxdWil7s98"
      }
    },
    {
      "cell_type": "markdown",
      "source": [],
      "metadata": {
        "id": "ywnRVPlb9fNC"
      }
    },
    {
      "cell_type": "code",
      "source": [
        "summ=0\n",
        "i=0\n",
        "while i<=4:\n",
        "  s=input('Enter a number')\n",
        "  n=int(s)\n",
        "  summ=summ+n\n",
        "  i=i+1\n",
        "  print(\"sum is\",summ)\n"
      ],
      "metadata": {
        "colab": {
          "base_uri": "https://localhost:8080/"
        },
        "id": "Dgos60h171Io",
        "outputId": "2920c1a3-c3f6-4c90-fa9d-9a092b3a3ded"
      },
      "execution_count": null,
      "outputs": [
        {
          "output_type": "stream",
          "name": "stdout",
          "text": [
            "Enter a number1\n",
            "sum is 1\n",
            "Enter a number2\n",
            "sum is 3\n",
            "Enter a number3\n",
            "sum is 6\n",
            "Enter a number4\n",
            "sum is 10\n",
            "Enter a number5\n",
            "sum is 15\n"
          ]
        }
      ]
    },
    {
      "cell_type": "markdown",
      "source": [
        "Muhammad Farooq\n",
        "\n",
        "FA20-BSE-011 "
      ],
      "metadata": {
        "id": "xnMwSk0T9h4e"
      }
    },
    {
      "cell_type": "markdown",
      "source": [
        "Activity 13:\n",
        "\n",
        "Write a Python code to keep accepting integer values from user until 0 is entered. Display sum of the given values.\n",
        "\n",
        "Solution:"
      ],
      "metadata": {
        "id": "PTUAJEfN8vA1"
      }
    },
    {
      "cell_type": "code",
      "source": [
        "sum=0\n",
        "s=input('Enter an integer value')\n",
        "n=int(s)\n",
        "while n!=0:\n",
        "  sum=sum+n\n",
        "  s=input('Enter an integer value...')\n",
        "  n=int(s)\n",
        "  print('sum of given value is',sum)"
      ],
      "metadata": {
        "colab": {
          "base_uri": "https://localhost:8080/"
        },
        "id": "oINpYpSR83ue",
        "outputId": "e285af1b-0115-4a75-d538-c709bc27e9b4"
      },
      "execution_count": null,
      "outputs": [
        {
          "output_type": "stream",
          "name": "stdout",
          "text": [
            "Enter an integer value12\n",
            "Enter an integer value...23\n",
            "sum of given value is 12\n",
            "Enter an integer value...12\n",
            "sum of given value is 35\n",
            "Enter an integer value...13\n",
            "sum of given value is 47\n",
            "Enter an integer value...2\n",
            "sum of given value is 60\n",
            "Enter an integer value...5\n",
            "sum of given value is 62\n",
            "Enter an integer value...7\n",
            "sum of given value is 67\n",
            "Enter an integer value...9\n",
            "sum of given value is 74\n",
            "Enter an integer value...6\n",
            "sum of given value is 83\n",
            "Enter an integer value...89\n",
            "sum of given value is 89\n",
            "Enter an integer value...8\n",
            "sum of given value is 178\n",
            "Enter an integer value...1\n",
            "sum of given value is 186\n",
            "Enter an integer value...4\n",
            "sum of given value is 187\n",
            "Enter an integer value...3\n",
            "sum of given value is 191\n",
            "Enter an integer value...4\n",
            "sum of given value is 194\n",
            "Enter an integer value...5\n",
            "sum of given value is 198\n",
            "Enter an integer value...67\n",
            "sum of given value is 203\n",
            "Enter an integer value...23\n",
            "sum of given value is 270\n",
            "Enter an integer value...0\n",
            "sum of given value is 293\n"
          ]
        }
      ]
    },
    {
      "cell_type": "markdown",
      "source": [
        "Activity 14:\n",
        "\n",
        "Write a Python code to accept an integer value from user and check that whether the given value is prime number or not.\n",
        "\n",
        "Solution:"
      ],
      "metadata": {
        "id": "w_6ROven-HMc"
      }
    },
    {
      "cell_type": "code",
      "source": [
        "isPrime= True\n",
        "i=2\n",
        "n=int(input(\"Enter a number\"))\n",
        "while i<n:\n",
        "  remainder=n%i\n",
        "  if remainder==0:\n",
        "    isPrime=False\n",
        "    break\n",
        "  else:\n",
        "    i=i+1\n",
        "if isPrime:\n",
        "  print(\"Number is Prime\")\n",
        "else:\n",
        "  print(\"Number is not prime\")\n",
        "\n",
        "\n"
      ],
      "metadata": {
        "colab": {
          "base_uri": "https://localhost:8080/"
        },
        "id": "GqPJ8XqgCg4C",
        "outputId": "819afd4d-ed9c-4095-d71e-68713820f86d"
      },
      "execution_count": null,
      "outputs": [
        {
          "output_type": "stream",
          "name": "stdout",
          "text": [
            "Enter a number12\n",
            "Number is not prime\n"
          ]
        }
      ]
    },
    {
      "cell_type": "markdown",
      "source": [],
      "metadata": {
        "id": "GLyR81fDDl8s"
      }
    }
  ]
}