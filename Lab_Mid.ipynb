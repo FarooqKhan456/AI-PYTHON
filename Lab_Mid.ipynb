{
  "nbformat": 4,
  "nbformat_minor": 0,
  "metadata": {
    "colab": {
      "provenance": [],
      "authorship_tag": "ABX9TyPO6ewCxBnxzilFIR7vi40P",
      "include_colab_link": true
    },
    "kernelspec": {
      "name": "python3",
      "display_name": "Python 3"
    },
    "language_info": {
      "name": "python"
    }
  },
  "cells": [
    {
      "cell_type": "markdown",
      "metadata": {
        "id": "view-in-github",
        "colab_type": "text"
      },
      "source": [
        "<a href=\"https://colab.research.google.com/github/FarooqKhan456/AI-PYTHON/blob/main/Lab_Mid.ipynb\" target=\"_parent\"><img src=\"https://colab.research.google.com/assets/colab-badge.svg\" alt=\"Open In Colab\"/></a>"
      ]
    },
    {
      "cell_type": "markdown",
      "source": [
        "Name Muhammad Farooq\n",
        "\n",
        "Reg No:  Fa20-BSE-011"
      ],
      "metadata": {
        "id": "f2aXlwQNSYKX"
      }
    },
    {
      "cell_type": "markdown",
      "source": [
        "# **Home Activities:**\n",
        "\n",
        "**Activity 1:**\n",
        "\n",
        "Imagine going from Arad to Bucharest in the following map. Your goal is to minimize the distance mentioned in the map during your travel. Implement a uniform cost search to find the corresponding path."
      ],
      "metadata": {
        "id": "DtVh_CZddx0p"
      }
    },
    {
      "cell_type": "code",
      "source": [
        "from queue import PriorityQueue\n",
        "\n",
        "# Define the graph as a dictionary of dictionaries\n",
        "graph = {'Arad': {'Zerind': 75, 'Sibiu': 140, 'Timisoara': 118},\n",
        "         'Zerind': {'Arad': 75, 'Oradea': 71},\n",
        "         'Oradea': {'Zerind': 71, 'Sibiu': 151},\n",
        "         'Sibiu': {'Arad': 140, 'Oradea': 151, 'Fagaras': 99, 'Rimnicu Vilcea': 80},\n",
        "         'Timisoara': {'Arad': 118, 'Lugoj': 111},\n",
        "         'Lugoj': {'Timisoara': 111, 'Mehadia': 70},\n",
        "         'Mehadia': {'Lugoj': 70, 'Drobeta': 75},\n",
        "         'Drobeta': {'Mehadia': 75, 'Craiova': 120},\n",
        "         'Craiova': {'Drobeta': 120, 'Rimnicu Vilcea': 146, 'Pitesti': 138},\n",
        "         'Rimnicu Vilcea': {'Sibiu': 80, 'Craiova': 146, 'Pitesti': 97},\n",
        "         'Fagaras': {'Sibiu': 99, 'Bucharest': 211},\n",
        "         'Pitesti': {'Rimnicu Vilcea': 97, 'Craiova': 138, 'Bucharest': 101},\n",
        "         'Bucharest': {'Fagaras': 211, 'Pitesti': 101}}\n",
        "\n",
        "def uniform_cost_search(graph, start, goal):\n",
        "    frontier = PriorityQueue()\n",
        "    frontier.put((0, start))\n",
        "    explored = []\n",
        "    path = {}\n",
        "    path[start] = None\n",
        "\n",
        "    while not frontier.empty():\n",
        "        cost, current_node = frontier.get()\n",
        "        explored.append(current_node)\n",
        "\n",
        "        if current_node == goal:\n",
        "            final_path = []\n",
        "            while current_node in path:\n",
        "                final_path.append(current_node)\n",
        "                current_node = path[current_node]\n",
        "            final_path.reverse()\n",
        "            return final_path\n",
        "\n",
        "        for neighbor, neighbor_cost in graph[current_node].items():\n",
        "            if neighbor not in explored:\n",
        "                new_cost = cost + neighbor_cost\n",
        "                if neighbor not in [node[1] for node in frontier.queue]:\n",
        "                    frontier.put((new_cost, neighbor))\n",
        "                    path[neighbor] = current_node\n",
        "                elif new_cost < [node[0] for node in frontier.queue if node[1] == neighbor][0]:\n",
        "                    frontier.get([node for node in frontier.queue if node[1] == neighbor][0])\n",
        "                    frontier.put((new_cost, neighbor))\n",
        "                    path[neighbor] = current_node\n",
        "\n",
        "    return None\n",
        "\n",
        "# Test the uniform cost search algorithm\n",
        "start_node = 'Arad'\n",
        "goal_node = 'Bucharest'\n",
        "result_path = uniform_cost_search(graph, start_node, goal_node)\n",
        "\n",
        "if result_path:\n",
        "    print(\"The minimum distance path from\", start_node, \"to\", goal_node, \"is:\")\n",
        "    print(result_path)\n",
        "    print(\"The total distance is:\", sum(graph[result_path[i]][result_path[i+1]] for i in range(len(result_path)-1)))\n",
        "else:\n",
        "    print(\"Goal not reachable from the starting node\")\n"
      ],
      "metadata": {
        "colab": {
          "base_uri": "https://localhost:8080/"
        },
        "id": "Co7lulKsSkZg",
        "outputId": "f55b4734-e478-4558-f2f4-31857c50d6f1"
      },
      "execution_count": 4,
      "outputs": [
        {
          "output_type": "stream",
          "name": "stdout",
          "text": [
            "The minimum distance path from Arad to Bucharest is:\n",
            "['Arad', 'Sibiu', 'Rimnicu Vilcea', 'Pitesti', 'Bucharest']\n",
            "The total distance is: 418\n"
          ]
        }
      ]
    },
    {
      "cell_type": "markdown",
      "source": [
        "Activity 1:\n",
        "\n",
        "Consider a toy problem that can be represented as a following graph. How would you represent this graph in python?"
      ],
      "metadata": {
        "id": "QufVNxVVVrjI"
      }
    },
    {
      "cell_type": "code",
      "source": [
        "class node:\n",
        "  def __init__(self,state,parent,actions,totalcost):\n",
        "    self.state = state\n",
        "    self.parent = parent\n",
        "    self.actions = actions\n",
        "    self.totalcost = totalcost\n",
        "\n",
        "def actionSequence(graph,initialstate,goalstate):\n",
        "  solution = [goalstate]\n",
        "  currentparent = graph[goalstate].parent\n",
        "  \n",
        "  while currentparent != None:\n",
        "    \n",
        "    solution.append(currentparent)\n",
        "    currentparent = graph[currentparent].parent\n",
        "\n",
        "  solution.reverse()\n",
        "  return solution\n",
        "\n",
        "def dfs(initialstate,goalstate):\n",
        "  \n",
        "  graph = {'A': node('A',None,['B','C','E'],None),\n",
        "           'B': node('B',None,['A','D','E'],None),\n",
        "           'C': node('C',None,['A','F','G'],None),\n",
        "           'D': node('D',None,['B','E'],None),\n",
        "           'E': node('E',None,['A','B','D'],None),\n",
        "           'F': node('F',None,['C'],None),\n",
        "           'G': node('G',None,['C'],None)\n",
        "          }\n",
        "  \n",
        "\n",
        "  \n"
      ],
      "metadata": {
        "id": "fVwyrlsbTblE"
      },
      "execution_count": 7,
      "outputs": []
    },
    {
      "cell_type": "markdown",
      "source": [
        "Activity 2:\n",
        "\n",
        "For the graph in previous activity, imagine node A as starting node and your goal is to reach F. Keeping depth first search in mind, describe a sequence of actions that you must take to reach that goal state.\n",
        "\n",
        "\n",
        "Solution:\n",
        "\n",
        "Remember that we can implement depth first search simply by using LIFO approach instead of FIFO that was used in breadth first search. Additionally we also don’t keep leaf nodes (nodes without children) in explored set."
      ],
      "metadata": {
        "id": "Tbnv0DPGdPN6"
      }
    },
    {
      "cell_type": "code",
      "source": [
        "class node:\n",
        "  def __init__(self,state,parent,actions,totalcost):\n",
        "    self.state = state\n",
        "    self.parent = parent\n",
        "    self.actions = actions\n",
        "    self.totalcost = totalcost\n",
        "\n",
        "def actionSequence(graph,initialstate,goalstate):\n",
        "  solution = [goalstate]\n",
        "  currentparent = graph[goalstate].parent\n",
        "  \n",
        "  while currentparent != None:\n",
        "    \n",
        "    solution.append(currentparent)\n",
        "    currentparent = graph[currentparent].parent\n",
        "\n",
        "  solution.reverse()\n",
        "  return solution\n",
        "\n",
        "def dfs(initialstate,goalstate):\n",
        "  \n",
        "  graph = {'A': node('A',None,['B','C','E'],None),\n",
        "           'B': node('B',None,['A','D','E'],None),\n",
        "           'C': node('C',None,['A','F','G'],None),\n",
        "           'D': node('D',None,['B','E'],None),\n",
        "           'E': node('E',None,['A','B','D'],None),\n",
        "           'F': node('F',None,['C'],None),\n",
        "           'G': node('G',None,['C'],None)\n",
        "          }\n",
        "  frontier = [initialstate]\n",
        "  explored = []\n",
        "  currentChildren = 0\n",
        "  while frontier:\n",
        "    currentnode = frontier.pop(len(frontier)-1)\n",
        "    explored.append(currentnode)\n",
        "    for child in graph[currentnode].actions:\n",
        "      if child not in frontier and child not in explored:\n",
        "        graph[child].parent = currentnode\n",
        "        if graph[child].state == goalstate:\n",
        "          # print(explored)\n",
        "          return actionSequence(graph,initialstate,goalstate)\n",
        "        currentChildren=currentChildren+1\n",
        "        frontier.append(child)\n",
        "  if currentChildren == 0 :\n",
        "    del explored[len(explored)-1]\n",
        "solution = dfs('A','D')\n",
        "print(solution)"
      ],
      "metadata": {
        "colab": {
          "base_uri": "https://localhost:8080/"
        },
        "id": "c-mCzCL6dZ3Z",
        "outputId": "68e786c9-acce-4886-c8de-08bef78a27ad"
      },
      "execution_count": 8,
      "outputs": [
        {
          "output_type": "stream",
          "name": "stdout",
          "text": [
            "['A', 'E', 'D']\n"
          ]
        }
      ]
    },
    {
      "cell_type": "markdown",
      "source": [
        "# **Activity 03:**\n",
        "\n",
        "Change initial state to D and set goal state as C. What will be resulting path of BFS search? What will be the sequence of nodes explored?\n",
        "\n",
        "Solution:\n",
        "\n",
        "Final path is [‘D’, ‘B’, ‘A’, ‘C’] Explored node sequence is D, E, A"
      ],
      "metadata": {
        "id": "93oqoKiAeBGH"
      }
    },
    {
      "cell_type": "code",
      "source": [
        "class node:\n",
        "  def __init__(self,state,parent,actions,totalcost):\n",
        "    self.state = state\n",
        "    self.parent = parent\n",
        "    self.actions = actions\n",
        "    self.totalcost = totalcost\n",
        "\n",
        "def actionSequence(graph,initialstate,goalstate):\n",
        "  solution = [goalstate]\n",
        "  currentparent = graph[goalstate].parent\n",
        "  \n",
        "  while currentparent != None:\n",
        "    \n",
        "    solution.append(currentparent)\n",
        "    currentparent = graph[currentparent].parent\n",
        "\n",
        "  solution.reverse()\n",
        "  return solution\n",
        "\n",
        "def bfs(initialstate,goalstate):\n",
        "  \n",
        "  graph = {'A': node('A',None,['B','C','E'],None),\n",
        "           'B': node('B',None,['A','D','E'],None),\n",
        "           'C': node('C',None,['A','F','G'],None),\n",
        "           'D': node('D',None,['B','E'],None),\n",
        "           'E': node('E',None,['A','B','D'],None),\n",
        "           'F': node('F',None,['C'],None),\n",
        "           'G': node('G',None,['C'],None)\n",
        "          }\n",
        "  frontier = [initialstate]\n",
        "  explored = []\n",
        "  while frontier:\n",
        "    currentnode = frontier.pop(0)\n",
        "    explored.append(currentnode)\n",
        "    for child in graph[currentnode].actions:\n",
        "      if child not in frontier and child not in explored:\n",
        "        graph[child].parent = currentnode\n",
        "        if graph[child].state == goalstate:\n",
        "          return actionSequence(graph,initialstate,goalstate)\n",
        "        frontier.append(child)\n",
        "solution = bfs('D','C')\n",
        "print(solution)\n",
        "\n",
        "\n",
        "  \n"
      ],
      "metadata": {
        "colab": {
          "base_uri": "https://localhost:8080/"
        },
        "id": "6ijO__faT_wr",
        "outputId": "58259841-c673-4ad8-f3e1-667fe95b3b1b"
      },
      "execution_count": 6,
      "outputs": [
        {
          "output_type": "stream",
          "name": "stdout",
          "text": [
            "['D', 'B', 'A', 'C']\n"
          ]
        }
      ]
    },
    {
      "cell_type": "markdown",
      "source": [],
      "metadata": {
        "id": "5X6roZnSWg3m"
      }
    },
    {
      "cell_type": "markdown",
      "source": [
        "Activity 4:\n",
        "\n",
        "Imagine the same tree but this time we also mention the cost of each edge.\n",
        "\n",
        "\n",
        "Implement a uniform cost solution to find the path from C to B.\n",
        "\n",
        "Solution:\n"
      ],
      "metadata": {
        "id": "qSiIEqBTY-2C"
      }
    },
    {
      "cell_type": "code",
      "source": [
        "graph= { 'A': Node ('A',None ,[('B',6),('C',9),('E',1)]\n",
        "        'B': Node\n",
        "        'C': Node\n",
        "        'D': Node\n",
        "        'E': Node\n",
        "        'F': Node\n",
        "        'G': Node\n",
        "    \n",
        "}"
      ],
      "metadata": {
        "id": "Ymq657MxZTtT"
      },
      "execution_count": null,
      "outputs": []
    }
  ]
}