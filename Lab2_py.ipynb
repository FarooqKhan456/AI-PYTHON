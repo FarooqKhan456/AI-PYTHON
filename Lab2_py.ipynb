{
  "nbformat": 4,
  "nbformat_minor": 0,
  "metadata": {
    "colab": {
      "provenance": [],
      "authorship_tag": "ABX9TyPKm974Ph3uACGi/H993CL9",
      "include_colab_link": true
    },
    "kernelspec": {
      "name": "python3",
      "display_name": "Python 3"
    },
    "language_info": {
      "name": "python"
    }
  },
  "cells": [
    {
      "cell_type": "markdown",
      "metadata": {
        "id": "view-in-github",
        "colab_type": "text"
      },
      "source": [
        "<a href=\"https://colab.research.google.com/github/Luddan123/AI-PYTHON/blob/main/Lab2_py.ipynb\" target=\"_parent\"><img src=\"https://colab.research.google.com/assets/colab-badge.svg\" alt=\"Open In Colab\"/></a>"
      ]
    },
    {
      "cell_type": "code",
      "execution_count": null,
      "metadata": {
        "id": "yG88dIskdogN"
      },
      "outputs": [],
      "source": []
    },
    {
      "cell_type": "markdown",
      "source": [],
      "metadata": {
        "id": "GhNxCTs4dvqt"
      }
    },
    {
      "cell_type": "markdown",
      "source": [
        "Name: Muhammad Farooq Reg No: FA20-BSE-011 Sec(A)"
      ],
      "metadata": {
        "id": "3Rw_rVHyd-rf"
      }
    },
    {
      "cell_type": "markdown",
      "source": [
        "Activity 1:\n",
        "\n",
        "Use loops to accept 5 values from user and store them in a list. Display all the values (objects) of the list.\n",
        "\n",
        "Solution:"
      ],
      "metadata": {
        "id": "QeEfw_51eBP8"
      }
    },
    {
      "cell_type": "code",
      "source": [
        "myList=[]\n",
        "for i in range(5):\n",
        "  val=input(\"Enter a value:\")\n",
        "  myList.append(val)\n",
        "\n",
        "  print(\"The printed list is:\")\n",
        "  print(myList)"
      ],
      "metadata": {
        "colab": {
          "base_uri": "https://localhost:8080/"
        },
        "id": "XEVKsqB0eGfc",
        "outputId": "c302e1ba-0a04-4678-8797-844543a1a283"
      },
      "execution_count": null,
      "outputs": [
        {
          "output_type": "stream",
          "name": "stdout",
          "text": [
            "Enter a value:Apple\n",
            "The printed list is:\n",
            "['Apple']\n",
            "Enter a value:Mango\n",
            "The printed list is:\n",
            "['Apple', 'Mango']\n",
            "Enter a value:Banana \n",
            "The printed list is:\n",
            "['Apple', 'Mango', 'Banana ']\n",
            "Enter a value:Grapes\n",
            "The printed list is:\n",
            "['Apple', 'Mango', 'Banana ', 'Grapes']\n",
            "Enter a value:Pineapple\n",
            "The printed list is:\n",
            "['Apple', 'Mango', 'Banana ', 'Grapes', 'Pineapple']\n"
          ]
        }
      ]
    },
    {
      "cell_type": "markdown",
      "source": [
        "Activity 2:\n",
        "\n",
        "Repeat the above code by accepting 5 integer values from user. Store these values in a list and display the sum of given values.\n",
        "\n",
        "Solution:"
      ],
      "metadata": {
        "id": "Ny7UnIfdeePn"
      }
    },
    {
      "cell_type": "code",
      "source": [
        "myList=[]\n",
        "for i in range(5):\n",
        "  val=input(\"Enter my value\")\n",
        "  n=int(val)\n",
        "  myList.append(n)\n",
        "\n",
        "  sum=0\n",
        "  for n in myList:\n",
        "    sum=sum+n\n",
        "    print(\"Sum of the values is\",sum)"
      ],
      "metadata": {
        "colab": {
          "base_uri": "https://localhost:8080/"
        },
        "id": "rkOxwp6jeu8U",
        "outputId": "871efff8-adfb-4424-bfd2-1f55d38996ed"
      },
      "execution_count": null,
      "outputs": [
        {
          "output_type": "stream",
          "name": "stdout",
          "text": [
            "Enter my value1\n",
            "Sum of the values is 1\n",
            "Enter my value2\n",
            "Sum of the values is 1\n",
            "Sum of the values is 3\n",
            "Enter my value3\n",
            "Sum of the values is 1\n",
            "Sum of the values is 3\n",
            "Sum of the values is 6\n",
            "Enter my value4\n",
            "Enter my value5\n",
            "Sum of the values is 1\n",
            "Sum of the values is 3\n",
            "Sum of the values is 6\n",
            "Sum of the values is 10\n",
            "Sum of the values is 1\n",
            "Sum of the values is 3\n",
            "Sum of the values is 6\n",
            "Sum of the values is 10\n",
            "Sum of the values is 15\n"
          ]
        }
      ]
    },
    {
      "cell_type": "markdown",
      "source": [
        "Activity 3:\n",
        "\n",
        "Accept 5 integer values from user. Store these values in a list and display the list in ascending order.\n",
        "\n",
        "Solution:"
      ],
      "metadata": {
        "id": "QuEcK3Fae6ji"
      }
    },
    {
      "cell_type": "code",
      "source": [
        "myList=[]\n",
        "for i in range(5):\n",
        "  val=input(\"Enter value\")\n",
        "  n=int(val)\n",
        "  myList.append(n)\n",
        "\n",
        "  myList.sort()\n",
        "  print(myList)\n"
      ],
      "metadata": {
        "colab": {
          "base_uri": "https://localhost:8080/"
        },
        "id": "QzEakEZ3fBDX",
        "outputId": "7a07ff03-f587-486e-e00b-99fc61e09cee"
      },
      "execution_count": null,
      "outputs": [
        {
          "output_type": "stream",
          "name": "stdout",
          "text": [
            "Enter value1\n",
            "[1]\n",
            "Enter value2\n",
            "[1, 2]\n",
            "Enter value3\n",
            "[1, 2, 3]\n",
            "Enter value6\n",
            "[1, 2, 3, 6]\n",
            "Enter value7\n",
            "[1, 2, 3, 6, 7]\n"
          ]
        }
      ]
    },
    {
      "cell_type": "markdown",
      "source": [
        "Activity 4:\n",
        "\n",
        "Accept two lists from user and display their join.\n",
        "\n",
        "Solution:"
      ],
      "metadata": {
        "id": "vNlkKgNhfPZF"
      }
    },
    {
      "cell_type": "code",
      "source": [
        "myList1=[]\n",
        "print(\"Enter first list for print\")\n",
        "for i in range(5):\n",
        " val=input(\"Enter a value\")\n",
        " n=int(val)\n",
        " myList1.append(n)\n",
        "\n",
        "myList2=[]\n",
        "print(\"Enter second List for print\")\n",
        "for i in range(5):\n",
        " val=input(\"Enter a  value\")\n",
        " n=int(val)\n",
        " myList2.append(n)\n",
        " myList3=myList1+myList2\n",
        "print(myList3)"
      ],
      "metadata": {
        "colab": {
          "base_uri": "https://localhost:8080/"
        },
        "id": "zws-xB7tgAHe",
        "outputId": "b5f8625f-993a-4c0d-dd21-248fff961c7b"
      },
      "execution_count": null,
      "outputs": [
        {
          "output_type": "stream",
          "name": "stdout",
          "text": [
            "Enter first list for print\n",
            "Enter a value1\n",
            "Enter a value2\n",
            "Enter a value3\n",
            "Enter a value4\n",
            "Enter a value5\n",
            "Enter second List for print\n",
            "Enter a  value12\n",
            "Enter a  value13\n",
            "Enter a  value14\n",
            "Enter a  value15\n",
            "Enter a  value16\n",
            "[1, 2, 3, 4, 5, 12, 13, 14, 15, 16]\n"
          ]
        }
      ]
    },
    {
      "cell_type": "markdown",
      "source": [
        "Activity 5:\n",
        "\n",
        "Write a Python code to accept a list from user and find a required element in it.\n",
        "\n",
        "Solution:"
      ],
      "metadata": {
        "id": "_yJltj51gSwf"
      }
    },
    {
      "cell_type": "code",
      "source": [
        "myList=[]\n",
        "print(\"Enter objects of first list\")\n",
        "for i in range(5):\n",
        "  val=input(\"entered a value:\")\n",
        "  n=int(val)\n",
        "  myList.append(n)\n",
        "  print(myList)\n",
        "  s=input(\"Enter the values you want to find:\")\n",
        "  n=int(s)\n",
        "  found= n in myList\n",
        "  if found==True:\n",
        "    print(\"Found\")\n",
        "  else:\n",
        "      print(\"not Found\")\n"
      ],
      "metadata": {
        "colab": {
          "base_uri": "https://localhost:8080/"
        },
        "id": "d8nUyadjgZjZ",
        "outputId": "11298c48-17f2-4861-940a-c261237c165b"
      },
      "execution_count": null,
      "outputs": [
        {
          "output_type": "stream",
          "name": "stdout",
          "text": [
            "Enter objects of first list\n",
            "entered a value:1\n",
            "[1]\n",
            "Enter the values you want to find:1\n",
            "Found\n",
            "entered a value:34\n",
            "[1, 34]\n",
            "Enter the values you want to find:2\n",
            "not Found\n",
            "entered a value:2\n",
            "[1, 34, 2]\n",
            "Enter the values you want to find:2\n",
            "Found\n",
            "entered a value:12\n",
            "[1, 34, 2, 12]\n",
            "Enter the values you want to find:12\n",
            "Found\n",
            "entered a value:23\n",
            "[1, 34, 2, 12, 23]\n",
            "Enter the values you want to find:1\n",
            "Found\n"
          ]
        }
      ]
    },
    {
      "cell_type": "markdown",
      "source": [
        "Activity 6:\n",
        "\n",
        "Write a function called say_hello that takes in a person’s name as a parameter. The function should print a greeting message with the person’s name. Then call the function three times with three different names.\n",
        "\n",
        "Solution:"
      ],
      "metadata": {
        "id": "e0mjs9mvgvY2"
      }
    },
    {
      "cell_type": "code",
      "source": [
        "def say_hello(name):\n",
        "    print(\"Hello, \" + name)\n",
        "\n",
        "say_hello(\"Alice\")\n",
        "say_hello(\"Bob\")\n",
        "say_hello(\"Charlie\")\n",
        "\n"
      ],
      "metadata": {
        "colab": {
          "base_uri": "https://localhost:8080/"
        },
        "id": "XEPtYnAfg4yy",
        "outputId": "620e6053-624e-4ac4-8e90-07779250669f"
      },
      "execution_count": null,
      "outputs": [
        {
          "output_type": "stream",
          "name": "stdout",
          "text": [
            "Hello, Alice\n",
            "Hello, Bob\n",
            "Hello, Charlie\n"
          ]
        }
      ]
    },
    {
      "cell_type": "markdown",
      "source": [
        "Activity 7:\n",
        "\n",
        "A palindrome is a string which is same read forward or backwards. For example: “dad” is the same in forward or reverse direction. Another example is “aibohphobia” which literally means, an irritable fear of palindromes.\n",
        "\n",
        "Write a function in python that receives a string and returns True if that string is a palindrome and False otherwise. Remember that difference between upper and lower case characters are ignored during this determination.\n",
        "\n",
        "Solution:\n",
        "\n"
      ],
      "metadata": {
        "id": "Okel-PCrhYEg"
      }
    },
    {
      "cell_type": "code",
      "source": [
        "def isPalindrome(word):\n",
        "  temp=word[::-1]\n",
        "  if temp.Capitalize()== word.Capitalize():\n",
        "    return True\n",
        "  else:\n",
        "    return False\n",
        "    print(isPalindrome(\"deed\"))\n",
        "\n"
      ],
      "metadata": {
        "id": "6J_LWCF5hh8t"
      },
      "execution_count": null,
      "outputs": []
    },
    {
      "cell_type": "markdown",
      "source": [
        "Activity 8:\n",
        "\n",
        "Imagine two matrices given in the form of 2D lists as under;\n",
        "\n",
        "a = [[1, 0, 0], [0, 1, 0], [0, 0, 1] ] b = [[1, 2, 3], [4, 5, 6], [7, 8, 9] ]\n",
        "\n",
        "Write a python code that finds another matrix/2D list that is a product of and b, i.e.,\n",
        "\n",
        "C=a*b\n",
        "\n",
        "Solution:"
      ],
      "metadata": {
        "id": "BlHbBe2iifYg"
      }
    },
    {
      "cell_type": "code",
      "source": [
        "a = [[1, 0, 0], [0, 1, 0], [0, 0, 1]]\n",
        "b = [[1, 2, 3], [4, 5, 6], [7, 8, 9]]\n",
        "C = [[0, 0, 0], [0, 0, 0], [0, 0, 0]]\n",
        "for i in range(len(a)):\n",
        "    for j in range(len(b[0])):\n",
        "        for k in range(len(b)):\n",
        "            C[i][j] += a[i][k] * b[k][j]\n",
        "\n",
        "print(C)\n"
      ],
      "metadata": {
        "colab": {
          "base_uri": "https://localhost:8080/"
        },
        "id": "mIhVS6-jisM9",
        "outputId": "2543d644-f98b-4aae-9a5b-a700a6a73144"
      },
      "execution_count": null,
      "outputs": [
        {
          "output_type": "stream",
          "name": "stdout",
          "text": [
            "[[1, 2, 3], [4, 5, 6], [7, 8, 9]]\n"
          ]
        }
      ]
    },
    {
      "cell_type": "markdown",
      "source": [],
      "metadata": {
        "id": "1VXLNMy3jPFu"
      }
    }
  ]
}