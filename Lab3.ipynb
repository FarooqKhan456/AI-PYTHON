{
  "nbformat": 4,
  "nbformat_minor": 0,
  "metadata": {
    "colab": {
      "provenance": [],
      "authorship_tag": "ABX9TyMDv3g6az3Ghmkf+3O9ELWq",
      "include_colab_link": true
    },
    "kernelspec": {
      "name": "python3",
      "display_name": "Python 3"
    },
    "language_info": {
      "name": "python"
    }
  },
  "cells": [
    {
      "cell_type": "markdown",
      "metadata": {
        "id": "view-in-github",
        "colab_type": "text"
      },
      "source": [
        "<a href=\"https://colab.research.google.com/github/Luddan123/AI-PYTHON/blob/main/Lab3.ipynb\" target=\"_parent\"><img src=\"https://colab.research.google.com/assets/colab-badge.svg\" alt=\"Open In Colab\"/></a>"
      ]
    },
    {
      "cell_type": "code",
      "execution_count": null,
      "metadata": {
        "id": "i5kI3O7wzuzG"
      },
      "outputs": [],
      "source": []
    },
    {
      "cell_type": "markdown",
      "source": [
        " Name:  Muhammad Farooq\n",
        "Reg No :  FA20-BSE-011 "
      ],
      "metadata": {
        "id": "lfQDDgZFz7pV"
      }
    },
    {
      "cell_type": "markdown",
      "source": [
        "Activity 1:\n",
        "\n",
        "Consider a toy problem that can be represented as a following graph. How would you represent this graph in python?"
      ],
      "metadata": {
        "id": "axuYlzDU0GBG"
      }
    },
    {
      "cell_type": "code",
      "source": [
        "\n",
        "class Node:\n",
        "        def_init_(self,state,Parent,actions,totalcost):\n",
        "        self.state=state\n",
        "        self.Parent=Parent\n",
        "        self.actions=actions\n",
        "        self.totalcost= totalcost\n",
        "\n",
        "           graph ={'A' : Node('A',None,['B','C','E'],None)\n",
        "                   'B' :Node('B',None,['A','D','E'],None)\n",
        "                   'C' :Node('C', None,['A','F','G'],None)\n",
        "                   'D' :Node('D', None,['B','E'],None)\n",
        "                   'E' :Node('E', None,['A','B','D'],None)\n",
        "                   'F' :Node('F', None,['C'],None)\n",
        "                   'G' :Node('G', None,['C'],None)}"
      ],
      "metadata": {
        "colab": {
          "base_uri": "https://localhost:8080/",
          "height": 130
        },
        "id": "cYpNrQHL0w4B",
        "outputId": "51fc91d1-63ee-4738-ede3-664bde57152b"
      },
      "execution_count": null,
      "outputs": [
        {
          "output_type": "error",
          "ename": "SyntaxError",
          "evalue": "ignored",
          "traceback": [
            "\u001b[0;36m  File \u001b[0;32m\"<ipython-input-2-10a564037a07>\"\u001b[0;36m, line \u001b[0;32m2\u001b[0m\n\u001b[0;31m    def_init_(self,state,Parent,actions,totalcost):\u001b[0m\n\u001b[0m                                                   ^\u001b[0m\n\u001b[0;31mSyntaxError\u001b[0m\u001b[0;31m:\u001b[0m invalid syntax\n"
          ]
        }
      ]
    },
    {
      "cell_type": "markdown",
      "source": [],
      "metadata": {
        "id": "B_gSMXWw7_r2"
      }
    },
    {
      "cell_type": "markdown",
      "source": [
        "Activity 2:\n",
        "\n",
        "For the graph in previous activity, imagine node A as starting node and your goal is to reach F. Keeping breadth first search in mind, describe a sequence of actions that you must take to reach that goal state.\n",
        "\n",
        "Solution:"
      ],
      "metadata": {
        "id": "Y4obaF_AAu_e"
      }
    },
    {
      "cell_type": "code",
      "source": [
        "def BFS():\n",
        "  intialState='D'\n",
        "  goalState='F'\n",
        "\n",
        "  graph ={'A' : Node('A',None,['B','C','E'],None)\n",
        "                   'B' :Node('B',None,['A','D','E'],None)\n",
        "                   'C' :Node('C', None,['A','F','G'],None)\n",
        "                   'D' :Node('D', None,['B','E'],None)\n",
        "                   'E' :Node('E', None,['A','B','D'],None)\n",
        "                   'F' :Node('F', None,['C'],None)\n",
        "                   'G' :Node('G', None,['C'],None)}\n",
        "\n",
        "  frontier=[initialState]\n",
        "  explored=[]\n",
        "\n",
        "  while len(frontier)!=0:\n",
        "    currentNode=frontier.pop(0)\n",
        "    explored.append(currentNode)\n",
        "    for child in graph[currentNode].actions:\n",
        "      if child not in frontier and child not in explored:\n",
        "        graph[child].parent=currentNode\n",
        "        if graph[child].state==goalState:\n",
        "          return actionSequence (graph,intialState,goalState)\n",
        "        frontier.append(child)\n",
        "\n",
        "        solution = BFS()\n",
        "        print(solution)\n",
        "\n",
        "def actionSequence(graph,intialState,goalState):\n",
        "  solution=[goalState]\n",
        "  currentParrent=graph[goalState].parent\n",
        "  while currentParent!=None:\n",
        "    solution.append(currentParent)\n",
        "    currentParent=graph[currentParent].parent\n",
        "   solution.reverse()\n",
        "   return solution\n",
        "\n",
        "\n",
        "\n",
        "\n",
        "\n",
        "\n",
        "\n"
      ],
      "metadata": {
        "colab": {
          "base_uri": "https://localhost:8080/",
          "height": 130
        },
        "id": "VRRGl56lA3Q5",
        "outputId": "75069eaa-c26e-4c7d-d552-30d1f23cb521"
      },
      "execution_count": 2,
      "outputs": [
        {
          "output_type": "error",
          "ename": "IndentationError",
          "evalue": "ignored",
          "traceback": [
            "\u001b[0;36m  File \u001b[0;32m\"<tokenize>\"\u001b[0;36m, line \u001b[0;32m35\u001b[0m\n\u001b[0;31m    solution.reverse()\u001b[0m\n\u001b[0m    ^\u001b[0m\n\u001b[0;31mIndentationError\u001b[0m\u001b[0;31m:\u001b[0m unindent does not match any outer indentation level\n"
          ]
        }
      ]
    }
  ]
}