{
  "nbformat": 4,
  "nbformat_minor": 0,
  "metadata": {
    "colab": {
      "provenance": [],
      "authorship_tag": "ABX9TyOLMGPiND4NkS/r11cRQegr",
      "include_colab_link": true
    },
    "kernelspec": {
      "name": "python3",
      "display_name": "Python 3"
    },
    "language_info": {
      "name": "python"
    }
  },
  "cells": [
    {
      "cell_type": "markdown",
      "metadata": {
        "id": "view-in-github",
        "colab_type": "text"
      },
      "source": [
        "<a href=\"https://colab.research.google.com/github/Luddan123/AI-PYTHON/blob/main/prt2LAB1.ipynb\" target=\"_parent\"><img src=\"https://colab.research.google.com/assets/colab-badge.svg\" alt=\"Open In Colab\"/></a>"
      ]
    },
    {
      "cell_type": "markdown",
      "source": [],
      "metadata": {
        "id": "FeEyHTYA1GdA"
      }
    },
    {
      "cell_type": "markdown",
      "source": [
        "Activity 6:\n",
        "Write following math expressions. Solve them by hand using operators’ precedence.\n",
        "Calculate their answers using Python. Match the results.\n",
        "\n",
        "Solution:"
      ],
      "metadata": {
        "id": "Isol2SNv1JRX"
      }
    },
    {
      "cell_type": "code",
      "source": [
        "2+3*6\n",
        "(2+3)*6\n",
        "48565878 * 578453\n",
        "2 + 2 \n",
        "(5-1)*((7+1)/(3-1))\n",
        "5 +7\n",
        "42 + 5 ** 2"
      ],
      "metadata": {
        "colab": {
          "base_uri": "https://localhost:8080/"
        },
        "id": "qq9TTHLH1Qvf",
        "outputId": "e298a5c6-8dad-48ee-d5df-549b96f7d75a"
      },
      "execution_count": null,
      "outputs": [
        {
          "output_type": "execute_result",
          "data": {
            "text/plain": [
              "67"
            ]
          },
          "metadata": {},
          "execution_count": 3
        }
      ]
    },
    {
      "cell_type": "markdown",
      "source": [
        "Activity 7:\n",
        "Combine numbers and text.\n",
        "\n",
        "Solution:"
      ],
      "metadata": {
        "id": "liU-xHHW1vsd"
      }
    },
    {
      "cell_type": "code",
      "source": [
        "#tEXT\n",
        "X='nANCY'\n",
        "print(X)\n",
        "#Combines numbers and text\n",
        "s=\"My lucky number is %d,what is yours?\"%7\n",
        "print(s)\n"
      ],
      "metadata": {
        "colab": {
          "base_uri": "https://localhost:8080/"
        },
        "id": "tGXJzRux12jQ",
        "outputId": "f12fb9ac-0e8f-457e-cd88-2e4b31ad017f"
      },
      "execution_count": null,
      "outputs": [
        {
          "output_type": "stream",
          "name": "stdout",
          "text": [
            "nANCY\n",
            "My lucky number is 7,what is yours?\n"
          ]
        }
      ]
    },
    {
      "cell_type": "markdown",
      "source": [
        "Activity 8:\n",
        "Take input from the keyboard and use it in your program.\n",
        "\n",
        "Solution:"
      ],
      "metadata": {
        "id": "Z6c7b6sT2fCB"
      }
    },
    {
      "cell_type": "code",
      "source": [
        "name=input('What is your name ?')\n",
        "print('Hello' + name)\n",
        "job=input('What is your job ?')\n",
        "print('Teacher' + job)"
      ],
      "metadata": {
        "colab": {
          "base_uri": "https://localhost:8080/"
        },
        "id": "FO3uvmot2k2f",
        "outputId": "45e37849-b2a2-4882-ebdc-9b3120dc432a"
      },
      "execution_count": null,
      "outputs": [
        {
          "output_type": "stream",
          "name": "stdout",
          "text": [
            "What is your name ?arham\n",
            "Helloarham\n",
            "What is your job ?teacher\n",
            "Teacherteacher\n"
          ]
        }
      ]
    },
    {
      "cell_type": "markdown",
      "source": [
        "Activity 9:\n",
        "\n",
        "Let us take an integer from user as input and check whether the given value is even or not.\n",
        "\n",
        "Solution:"
      ],
      "metadata": {
        "id": "WdUd8Pmp3fRg"
      }
    },
    {
      "cell_type": "code",
      "source": [
        "n=input('enter a number')\n",
        "if int(n)%2==0:\n",
        "  print('The given number is even number')"
      ],
      "metadata": {
        "colab": {
          "base_uri": "https://localhost:8080/"
        },
        "id": "gHN4NMWm3gvD",
        "outputId": "b8a00b9c-c7b8-42c2-b714-0ae67d1886aa"
      },
      "execution_count": null,
      "outputs": [
        {
          "output_type": "stream",
          "name": "stdout",
          "text": [
            "enter a number12\n",
            "The given number is even number\n"
          ]
        }
      ]
    },
    {
      "cell_type": "markdown",
      "source": [
        "Activity 10:\n",
        "\n",
        "Let us modify the code to take an integer from user as input and check whether the given value is even or odd. If the given value is not even then it means that it will be odd. So here we need to use if-else statement an demonstrated below.\n",
        "\n",
        "\n",
        "Solution:"
      ],
      "metadata": {
        "id": "iL9gIOS54FMV"
      }
    },
    {
      "cell_type": "code",
      "source": [
        "n=input('enter a number')\n",
        "if int(n)%2==0:\n",
        "  print('The given number is even number')\n",
        "else:\n",
        "  print('The given number is odd')"
      ],
      "metadata": {
        "colab": {
          "base_uri": "https://localhost:8080/"
        },
        "id": "5PKAY9as4MRc",
        "outputId": "7ecf635f-e68c-4960-b962-0f3d39159dc6"
      },
      "execution_count": null,
      "outputs": [
        {
          "output_type": "stream",
          "name": "stdout",
          "text": [
            "enter a number13\n",
            "The given number is odd\n"
          ]
        }
      ]
    },
    {
      "cell_type": "markdown",
      "source": [
        "Activity 11:\n",
        "\n",
        "Calculate the sum of all the values between 0-10 using while loop.\n",
        "\n",
        "Solution:"
      ],
      "metadata": {
        "id": "1r4mNjbd4pLi"
      }
    },
    {
      "cell_type": "code",
      "source": [
        "summation=0\n",
        "i=1\n",
        "while i<=0:\n",
        "  summation=summation + i\n",
        "  i=i+1\n",
        "print('sum is',summation)\n",
        "\n"
      ],
      "metadata": {
        "colab": {
          "base_uri": "https://localhost:8080/"
        },
        "id": "G2aBXGIX4qaj",
        "outputId": "2a9ed9a0-697d-4f26-c7d2-f9271bbaeba6"
      },
      "execution_count": null,
      "outputs": [
        {
          "output_type": "stream",
          "name": "stdout",
          "text": [
            "sum is 0\n"
          ]
        }
      ]
    }
  ]
}